{
 "cells": [
  {
   "cell_type": "code",
   "execution_count": 56,
   "metadata": {},
   "outputs": [],
   "source": [
    "import pandas as pd\n",
    "import matplotlib.pyplot as plt\n",
    "import warnings\n",
    "warnings.filterwarnings('ignore')\n",
    "from tqdm import tqdm"
   ]
  },
  {
   "cell_type": "code",
   "execution_count": 57,
   "metadata": {},
   "outputs": [],
   "source": [
    "train2=pd.read_csv('train_v2.csv')\n",
    "wkd=pd.read_csv('wkd_v1 (1).csv')\n",
    "test2=pd.read_csv('test_v2_day.csv')\n",
    "test2_periods=pd.read_csv('test_v2_periods.csv')"
   ]
  },
  {
   "cell_type": "code",
   "execution_count": 58,
   "metadata": {},
   "outputs": [],
   "source": [
    "wkd.ORIG_DT=pd.to_datetime(wkd.ORIG_DT)\n",
    "wkd=wkd.rename(columns={'ORIG_DT':'date'})"
   ]
  },
  {
   "cell_type": "code",
   "execution_count": 59,
   "metadata": {},
   "outputs": [],
   "source": [
    "#构建新特征 shift\n",
    "'''\n",
    "1.前一天是否为周末 且 当前是工作日\n",
    "2.前一天为法定假日 且 当前是工作日\n",
    "3.前一天为工作日调休 且 当前是工作日\n",
    "4.前一天为假期调为工作日，且 当前是工作日\n",
    "5.前7天中法定假日的比例\n",
    "6.前14天中法定假日的比例\n",
    "7.前7天中工作日调休的比例\n",
    "8.前14天中工作日调休的比例\n",
    "9.前7天中假期调为工作日的比例\n",
    "10.前14天中假期调为工作日的比例\n",
    "'''\n",
    "#为了构建新特征，这里使用shift函数来实现第前n天的type\n",
    "#因为数据集前14行均有部分数据的缺失，因此在构建训练集时这部分[:14]数据需要舍弃\n",
    "for i in range(1,15):\n",
    "    wkd[f'last_{i}']=wkd['WKD_TYP_CD'].shift(i)\n",
    "\n",
    "wkd=wkd.iloc[14:,:].reset_index(drop=True)\n",
    "\n",
    "wkd['last_7days']=wkd['last_1']+' '+wkd['last_2']+' '+wkd['last_3']+' '+wkd['last_4']+' '+\\\n",
    "wkd['last_5']+' '+wkd['last_6']+' '+wkd['last_7']\n",
    "\n",
    "wkd['last_7days']=wkd['last_7days'].apply(lambda x:x.split(' '))\n",
    "\n",
    "wkd['last_14days']=wkd['last_1']+' '+wkd['last_2']+' '+wkd['last_3']+' '+wkd['last_4']+' '+\\\n",
    "wkd['last_5']+' '+wkd['last_6']+' '+wkd['last_7']+' '+wkd['last_8']+' '+wkd['last_9']+' '+\\\n",
    "wkd['last_10']+' '+wkd['last_11']+' '+wkd['last_12']+' '+wkd['last_13']+' '+wkd['last_14']\n",
    "\n",
    "wkd['last_14days']=wkd['last_14days'].apply(lambda x:x.split(' '))"
   ]
  },
  {
   "cell_type": "code",
   "execution_count": 60,
   "metadata": {},
   "outputs": [],
   "source": [
    "wkd['new1']=wkd['WKD_TYP_CD'].apply(lambda x:x=='WN')&wkd['last_1'].apply(lambda x:x=='SN')\n",
    "wkd['new1']=wkd['new1'].astype(int)\n",
    "wkd['afterhod']=wkd['WKD_TYP_CD'].apply(lambda x:x=='WN')&wkd['last_1'].apply(lambda x:x=='NH')\n",
    "wkd['afterhod']=wkd['afterhod'].astype(int)\n",
    "wkd['afterwkdch']=wkd['WKD_TYP_CD'].apply(lambda x:x=='WN')&wkd['last_1'].apply(lambda x:x=='SS')\n",
    "wkd['afterwkdch']=wkd['afterwkdch'].astype(int)\n",
    "wkd['afterhodch']=wkd['WKD_TYP_CD'].apply(lambda x:x=='WN')&wkd['last_1'].apply(lambda x:x=='WS')\n",
    "wkd['afterhodch']=wkd['afterhodch'].astype(int)\n",
    "wkd['hodratio7']=wkd['last_7days'].apply(lambda x:x.count('NH')/len(x))\n",
    "wkd['hodratio14']=wkd['last_14days'].apply(lambda x:x.count('NH')/len(x))\n",
    "wkd['wkdchratio7']=wkd['last_7days'].apply(lambda x:x.count('SS')/len(x))\n",
    "wkd['wkdchratio14']=wkd['last_14days'].apply(lambda x:x.count('SS')/len(x))\n",
    "wkd['hodchratio7']=wkd['last_7days'].apply(lambda x:x.count('WS')/len(x))\n",
    "wkd['hodchratio14']=wkd['last_14days'].apply(lambda x:x.count('WS')/len(x))"
   ]
  },
  {
   "cell_type": "code",
   "execution_count": 61,
   "metadata": {},
   "outputs": [],
   "source": [
    "#TRAIN\n",
    "pos_a=train2[train2.post_id=='A']\n",
    "pos_b=train2[train2.post_id=='B'].reset_index(drop=True)"
   ]
  },
  {
   "cell_type": "code",
   "execution_count": 62,
   "metadata": {},
   "outputs": [],
   "source": [
    "pos_a.date=pd.to_datetime(pos_a.date)\n",
    "pos_b.date=pd.to_datetime(pos_b.date)"
   ]
  },
  {
   "cell_type": "code",
   "execution_count": 63,
   "metadata": {},
   "outputs": [],
   "source": [
    "#TEST\n",
    "pos_a_test=test2[test2.post_id=='A']\n",
    "pos_b_test=test2[test2.post_id=='B']\n",
    "pos_a_test.date=pd.to_datetime(pos_a_test.date)\n",
    "pos_b_test.date=pd.to_datetime(pos_b_test.date)"
   ]
  },
  {
   "cell_type": "code",
   "execution_count": 64,
   "metadata": {},
   "outputs": [],
   "source": [
    "pos_a_test=pos_a_test.set_index('date',drop=True)\n",
    "pos_b_test=pos_b_test.set_index('date',drop=True)"
   ]
  },
  {
   "cell_type": "markdown",
   "metadata": {},
   "source": [
    "# 评估准则"
   ]
  },
  {
   "cell_type": "code",
   "execution_count": 65,
   "metadata": {},
   "outputs": [],
   "source": [
    "def mape(prediction,target):\n",
    "    assert len(prediction)==len(target)\n",
    "    duration=len(target)\n",
    "    error_sum=0\n",
    "    for i in range(duration):\n",
    "        error_sum+=abs((prediction[i]-target[i])/(target[i]+1))\n",
    "    return error_sum/duration\n",
    "#for task 1\n",
    "def plot(df):\n",
    "    plt.figure(figsize=(20,15))\n",
    "    plt.plot(df.index,df.amount)\n",
    "    plt.show()\n",
    "    "
   ]
  },
  {
   "cell_type": "markdown",
   "metadata": {},
   "source": [
    "# TASK1 天粒度"
   ]
  },
  {
   "cell_type": "code",
   "execution_count": 66,
   "metadata": {},
   "outputs": [],
   "source": [
    "pos_as=['A{}'.format(i) for i in range(1,14)]\n",
    "train_sub={}\n",
    "for ai in pos_as:\n",
    "    train_sub[ai]=pos_a[pos_a.biz_type==ai].groupby('date')[['amount']].sum()\n",
    "    train_sub[ai].index=pd.DatetimeIndex(train_sub[ai].index.values,freq='D')"
   ]
  },
  {
   "cell_type": "code",
   "execution_count": 67,
   "metadata": {},
   "outputs": [],
   "source": [
    "pos_b_day=pos_b.groupby('date')[['amount']].sum()\n",
    "pos_b_day.index=pd.DatetimeIndex(pos_b_day.index.values,freq='D')"
   ]
  },
  {
   "cell_type": "code",
   "execution_count": 68,
   "metadata": {},
   "outputs": [],
   "source": [
    "def normalization(df,col):\n",
    "    max_=max(df[col].unique())\n",
    "    min_=min(df[col].unique())\n",
    "    df[col]=df[col].apply(lambda x:(x-min_)/(max_-min_))\n",
    "\n",
    "def feature_construct(time_series,train=True): #time_series include the date(index) and amount\n",
    "    X=pd.DataFrame()\n",
    "    if train:\n",
    "        X['amount']=time_series.amount\n",
    "    X['date']=time_series.index\n",
    "    X['year']=time_series.index.year\n",
    "    X['month']=time_series.index.month\n",
    "    X['day']=time_series.index.day\n",
    "\n",
    "    X=pd.merge(X,wkd,on='date',how='left')\n",
    "    for i in ['WN','SN','NH','SS','WS']:\n",
    "        X[i]=X['WKD_TYP_CD'].apply(lambda x:x==i).astype(int)\n",
    "    \n",
    "    if train:\n",
    "        X=X.iloc[14:,:].reset_index(drop=True)\n",
    "    #新冠肺炎\n",
    "    X['xg']=0\n",
    "    for i in range(X.shape[0]):\n",
    "        if X.year[i]==2020 and X.month[i] in (1,2,3):\n",
    "                X['xg'][i]=1\n",
    "    \n",
    "    \n",
    "    if train:\n",
    "        output=X[['amount','year','month','day','WN','SN','NH','SS','WS',\\\n",
    "                    'new1',\n",
    "                    'afterhod',\n",
    "                    'afterwkdch',\n",
    "                    'afterhodch',\n",
    "                    'hodratio7',\n",
    "                    'hodratio14',\n",
    "                    'wkdchratio7',\n",
    "                    'wkdchratio14',\n",
    "                    'hodchratio7',\n",
    "                    'hodchratio14',\n",
    "                    'xg']]\n",
    "        for i in ('year','month','day'):\n",
    "            normalization(output,i)\n",
    "    else:\n",
    "        output=X[['year','month','day','WN','SN','NH','SS','WS',\\\n",
    "                   'new1',\n",
    "                   'afterhod',\n",
    "                   'afterwkdch',\n",
    "                   'afterhodch',\n",
    "                    'hodratio7',\n",
    "                    'hodratio14',\n",
    "                    'wkdchratio7',\n",
    "                    'wkdchratio14',\n",
    "                    'hodchratio7',\n",
    "                    'hodchratio14',\n",
    "                    'xg']] #test\n",
    "        output['year']=output['year'].apply(lambda x:(x-2018)/(2020-2018))\n",
    "        output['month']=output['month'].apply(lambda x:(x-1)/(12-1))\n",
    "        output['day']=output['day'].apply(lambda x:(x-1)/(31-1))\n",
    "    \n",
    "    return output  \n",
    "\n",
    "from sklearn.ensemble import RandomForestRegressor\n",
    "from sklearn.ensemble import GradientBoostingRegressor\n",
    "from xgboost import XGBRegressor\n",
    "from numpy import array\n",
    "def models_train_predict(x,y,test_x):\n",
    "    train_x_complete,train_y_complete=x,y\n",
    "    train_x,valid_x=train_x_complete[:-30],train_x_complete[-30:]\n",
    "    train_y,valid_y=train_y_complete[:-30],train_y_complete[-30:]\n",
    "    \n",
    "    min_valid_error=100\n",
    "    best_model=None\n",
    "    preds=[]\n",
    "    model1=RandomForestRegressor(n_estimators=1000,\n",
    "                         criterion='mae',\n",
    "                         #max_depth=10\n",
    "                        )\n",
    "    model2=GradientBoostingRegressor(n_estimators=300,criterion='mae')\n",
    "    model3=XGBRegressor(learning_rate=0.1,\n",
    "                n_estimators=400,\n",
    "                 objective='reg:squarederror',\n",
    "                booster='gblinear')\n",
    "    models=[model1,model2,model3]\n",
    "    \n",
    "    for model in models:\n",
    "        model.fit(train_x,train_y)\n",
    "        pred=model.predict(valid_x)\n",
    "        preds.append(pred)\n",
    "        valid_error=mape(pred.tolist(),valid_y.tolist())\n",
    "        if valid_error<min_valid_error:\n",
    "            min_valid_error=valid_error\n",
    "            best_model=model\n",
    "    \n",
    "    #compare the performance between model average and best model\n",
    "    avg_preds=model_avg(preds[0],preds[1],preds[2])\n",
    "    avg_preds_error=mape(avg_preds.tolist(),valid_y.tolist())\n",
    "    if avg_preds_error<min_valid_error:\n",
    "        final_preds=[]\n",
    "        for model in models:\n",
    "            model.fit(train_x_complete,train_y_complete)\n",
    "            pred=model.predict(test_x)\n",
    "            final_preds.append(pred)\n",
    "        return model_avg(final_preds[0],final_preds[1],final_preds[2])\n",
    "        \n",
    "    \n",
    "    best_model.fit(train_x_complete,train_y_complete)\n",
    "    prediction=best_model.predict(test_x)\n",
    "    return array(prediction)\n",
    "\n",
    "\n",
    "def model_avg(pred1,pred2,pred3):\n",
    "    pred1_adj=[i if i>=0 else 0 for i in pred1.tolist()]\n",
    "    pred2_adj=[i if i>=0 else 0 for i in pred2.tolist()]\n",
    "    pred3_adj=[i if i>=0 else 0 for i in pred3.tolist()]\n",
    "    pred_avg=[]\n",
    "    for i in range(len(pred1_adj)):\n",
    "        pred_avg.append((pred1_adj[i]+pred2_adj[i]+pred3_adj[i])/3)\n",
    "    return array(pred_avg)\n",
    "\n",
    "def predict_a(type_a):\n",
    "    sub_a=train_sub[type_a]\n",
    "    sub_a_train=feature_construct(sub_a,train=True)\n",
    "    sub_a_test=feature_construct(pos_a_test,train=False)\n",
    "\n",
    "    sub_a_train_y,sub_a_train_x=sub_a_train.iloc[:,0],sub_a_train.iloc[:,1:]\n",
    "    \n",
    "    prediction=models_train_predict(sub_a_train_x,sub_a_train_y,sub_a_test)\n",
    "    prediction_adj=[i if i>=0 else 0 for i in prediction.tolist()]\n",
    "    return array(prediction_adj)\n",
    "\n",
    "#same story for b(write again just for clearity)\n",
    "def predict_b():\n",
    "    b_train=feature_construct(pos_b_day,train=True)\n",
    "    b_test=feature_construct(pos_b_test,train=False)\n",
    "\n",
    "    b_train_y,b_train_x=b_train.iloc[:,0],b_train.iloc[:,1:]\n",
    "    \n",
    "    prediction=models_train_predict(b_train_x,b_train_y,b_test)\n",
    "    prediction_adj=[i if i>=0 else 0 for i in prediction.tolist()]\n",
    "    return array(prediction_adj)"
   ]
  },
  {
   "cell_type": "markdown",
   "metadata": {},
   "source": [
    "# 传统时间序列方法建模"
   ]
  },
  {
   "cell_type": "code",
   "execution_count": 17,
   "metadata": {},
   "outputs": [],
   "source": [
    "#acf and pacf\n",
    "from statsmodels.tsa.stattools import acf, pacf\n",
    "from statsmodels.graphics.tsaplots import plot_acf, plot_pacf"
   ]
  },
  {
   "cell_type": "code",
   "execution_count": 18,
   "metadata": {},
   "outputs": [],
   "source": [
    "ARIMA\n",
    "use classical time-series model:ARIMA\n",
    "from statsmodels.tsa.arima_model import ARIMA\n",
    "#parameter order=(p,d,q)\n",
    "#where p: periods taken for autoregressive model\n",
    "#      d: Integrated order, differnce\n",
    "#      q: periods in moving average model\n",
    "def arima_forecast(train_set,valid_set,d,p,q):\n",
    "    model_arima=ARIMA(train_set,order=(d,p,q))\n",
    "    model_arima_fit=model_arima.fit()\n",
    "    \n",
    "    print(model_arima_fit.aic) #check performance\n",
    "    predictions=model_arima_fit.forecast(steps=31)[0]\n",
    "    plt.plot(valid_set.tolist(),color='red')\n",
    "    plt.plot(predictions,color='blue')"
   ]
  },
  {
   "cell_type": "code",
   "execution_count": 19,
   "metadata": {},
   "outputs": [],
   "source": [
    "#position A1 as example\n",
    "train_a1,valid_a1=train_valid_split(res_sub['A1'])\n",
    "\n",
    "fig, axes = plt.subplots(1,2,figsize=(16,3), dpi= 100)\n",
    "plot_acf(train_a1.tolist(),lags=30,ax=axes[0])\n",
    "plot_pacf(train_a1.tolist(),lags=30,ax=axes[1])"
   ]
  },
  {
   "cell_type": "code",
   "execution_count": 20,
   "metadata": {},
   "outputs": [],
   "source": [
    "arima_forecast(train_a1,valid_a1,15,1,3)"
   ]
  },
  {
   "cell_type": "markdown",
   "metadata": {},
   "source": [
    "# 深度学习方法"
   ]
  },
  {
   "cell_type": "code",
   "execution_count": null,
   "metadata": {},
   "outputs": [],
   "source": [
    "feature\n",
    "import numpy as np\n",
    "def split_sequence(sequence,n_steps):\n",
    "    X,y=list(),list()\n",
    "    for i in range(len(sequence)):\n",
    "        end_ix=i+n_steps\n",
    "        if end_ix>len(sequence)-1:\n",
    "            break\n",
    "        \n",
    "        seq_x,seq_y=sequence[i:end_ix],sequence[end_ix]\n",
    "        X.append(seq_x)\n",
    "        y.append(seq_y)\n",
    "    return np.array(X),np.array(y)\n",
    "\n",
    "\n",
    "#take a1 as an example\n",
    "a1_list=res_sub['A1']['amount'].tolist()\n",
    "n_steps=60\n",
    "X,y=split_sequence(sequence=a1_list,n_steps=n_steps)"
   ]
  },
  {
   "cell_type": "code",
   "execution_count": null,
   "metadata": {},
   "outputs": [],
   "source": [
    "train/valid split\n",
    "X=X.reshape(X.shape[0],1,X.shape[1])\n",
    "X_train,y_train=X[:-31],y[:-31]\n",
    "X_valid,y_valid=X[-31:],y[-31:]"
   ]
  },
  {
   "cell_type": "code",
   "execution_count": null,
   "metadata": {},
   "outputs": [],
   "source": [
    "vanilla lstm\n",
    "from tensorflow import keras\n",
    "from tensorflow.keras.models import Sequential\n",
    "from tensorflow.keras.layers import LSTM,Dense\n",
    "from tensorflow.keras.callbacks import ModelCheckpoint\n",
    "\n",
    "model = Sequential()\n",
    "model.add(LSTM(32, activation='relu', input_shape=(1,n_steps)))\n",
    "model.add(Dense(1))\n",
    "model.compile(optimizer='adam', loss='mse')\n",
    "\n",
    "\n",
    "model.summary()"
   ]
  },
  {
   "cell_type": "code",
   "execution_count": null,
   "metadata": {},
   "outputs": [],
   "source": [
    "checkpoint = ModelCheckpoint(filepath='lstm.ckpt',monitor='val_loss',mode='auto',save_best_only='True')\n",
    "model.fit(X_train,y_train,epochs=100,verbose=1,validation_split=0.1,callbacks=[checkpoint])"
   ]
  },
  {
   "cell_type": "code",
   "execution_count": null,
   "metadata": {},
   "outputs": [],
   "source": [
    "from tensorflow.keras.models import load_model\n",
    "lstm_star=load_model('lstm.ckpt')"
   ]
  },
  {
   "cell_type": "code",
   "execution_count": null,
   "metadata": {},
   "outputs": [],
   "source": [
    "prediction_lstm=lstm_star.predict(X_valid)\n",
    "plt.plot([i for i in range(31)],prediction_lstm,color='blue')\n",
    "plt.plot([i for i in range(31)],y_valid,color='red')\n",
    "plt.show()"
   ]
  },
  {
   "cell_type": "markdown",
   "metadata": {},
   "source": [
    "# 机器学习方法"
   ]
  },
  {
   "cell_type": "code",
   "execution_count": 69,
   "metadata": {},
   "outputs": [],
   "source": [
    "#position A1 as example\n",
    "a1=train_sub['A1']\n",
    "a1_featured=feature_construct(a1)\n",
    "train_a1_featured,valid_a1_featured=a1_featured[:-30],a1_featured[-30:]"
   ]
  },
  {
   "cell_type": "code",
   "execution_count": 70,
   "metadata": {},
   "outputs": [],
   "source": [
    "train_a1_x,valid_a1_x=train_a1_featured.iloc[:,1:],valid_a1_featured.iloc[:,1:]\n",
    "train_a1_y,valid_a1_y=train_a1_featured.iloc[:,0],valid_a1_featured.iloc[:,0]"
   ]
  },
  {
   "cell_type": "code",
   "execution_count": 16,
   "metadata": {},
   "outputs": [],
   "source": [
    "#random forest\n",
    "from sklearn.ensemble import RandomForestRegressor\n",
    "rf=RandomForestRegressor(n_estimators=1000,\n",
    "                         criterion='mae',\n",
    "                         #max_depth=10\n",
    "                        )\n",
    "rf.fit(train_a1_x,train_a1_y)\n",
    "rf_pred=rf.predict(valid_a1_x)"
   ]
  },
  {
   "cell_type": "code",
   "execution_count": 17,
   "metadata": {},
   "outputs": [
    {
     "data": {
      "text/plain": [
       "0.23184540393131156"
      ]
     },
     "execution_count": 17,
     "metadata": {},
     "output_type": "execute_result"
    }
   ],
   "source": [
    "mape(prediction=rf_pred.tolist(),target=valid_a1_y.tolist())"
   ]
  },
  {
   "cell_type": "code",
   "execution_count": 18,
   "metadata": {},
   "outputs": [
    {
     "data": {
      "image/png": "[encoded data removed]",
      "text/plain": [
       "<Figure size 432x288 with 1 Axes>"
      ]
     },
     "metadata": {},
     "output_type": "display_data"
    }
   ],
   "source": [
    "plt.plot([i for i in range(30)],rf_pred,color='blue')\n",
    "plt.plot([i for i in range(30)],valid_a1_y,color='red')\n",
    "plt.show()"
   ]
  },
  {
   "cell_type": "code",
   "execution_count": 19,
   "metadata": {},
   "outputs": [],
   "source": [
    "#gbdt\n",
    "from sklearn.ensemble import GradientBoostingRegressor\n",
    "gbdt=GradientBoostingRegressor(n_estimators=350,criterion='mae')\n",
    "gbdt.fit(train_a1_x,train_a1_y)\n",
    "gbdt_pred=gbdt.predict(valid_a1_x)"
   ]
  },
  {
   "cell_type": "code",
   "execution_count": 601,
   "metadata": {},
   "outputs": [
    {
     "data": {
      "text/plain": [
       "0.08484369175454237"
      ]
     },
     "execution_count": 601,
     "metadata": {},
     "output_type": "execute_result"
    }
   ],
   "source": [
    "mape(prediction=gbdt_pred.tolist(),target=valid_a1_y.tolist())"
   ]
  },
  {
   "cell_type": "code",
   "execution_count": 20,
   "metadata": {},
   "outputs": [
    {
     "data": {
      "image/png": "[encoded data removed]",
      "text/plain": [
       "<Figure size 432x288 with 1 Axes>"
      ]
     },
     "metadata": {},
     "output_type": "display_data"
    }
   ],
   "source": [
    "plt.plot([i for i in range(30)],gbdt_pred,color='blue')\n",
    "plt.plot([i for i in range(30)],valid_a1_y,color='red')\n",
    "plt.show()"
   ]
  },
  {
   "cell_type": "code",
   "execution_count": 71,
   "metadata": {},
   "outputs": [],
   "source": [
    "#xgboost\n",
    "from xgboost import XGBRegressor"
   ]
  },
  {
   "cell_type": "code",
   "execution_count": 127,
   "metadata": {},
   "outputs": [],
   "source": [
    "xgb=XGBRegressor(learning_rate=0.1,\n",
    "                n_estimators=10,\n",
    "                 objective='reg:squarederror',\n",
    "                booster='dart')"
   ]
  },
  {
   "cell_type": "code",
   "execution_count": 128,
   "metadata": {},
   "outputs": [],
   "source": [
    "xgb.fit(train_a1_x,train_a1_y,eval_metric='mae')\n",
    "xgb_pred=xgb.predict(valid_a1_x)"
   ]
  },
  {
   "cell_type": "code",
   "execution_count": 129,
   "metadata": {},
   "outputs": [],
   "source": [
    "xgb_pred_adj=[i if i>=0 else 0 for i in xgb_pred.tolist()]"
   ]
  },
  {
   "cell_type": "code",
   "execution_count": 130,
   "metadata": {},
   "outputs": [
    {
     "data": {
      "image/png": "[encoded data removed]",
      "text/plain": [
       "<Figure size 432x288 with 1 Axes>"
      ]
     },
     "metadata": {},
     "output_type": "display_data"
    }
   ],
   "source": [
    "plt.plot([i for i in range(30)],xgb_pred_adj,color='blue')\n",
    "plt.plot([i for i in range(30)],valid_a1_y,color='red')\n",
    "plt.show()"
   ]
  },
  {
   "cell_type": "code",
   "execution_count": 131,
   "metadata": {},
   "outputs": [
    {
     "data": {
      "text/plain": [
       "0.2657992097959018"
      ]
     },
     "execution_count": 131,
     "metadata": {},
     "output_type": "execute_result"
    }
   ],
   "source": [
    "mape(prediction=xgb_pred_adj,target=valid_a1_y.tolist())"
   ]
  },
  {
   "cell_type": "code",
   "execution_count": 27,
   "metadata": {},
   "outputs": [],
   "source": [
    "#avg of 3 models\n",
    "def model_avg(pred1,pred2,pred3):\n",
    "    pred1_adj=[i if i>=0 else 0 for i in pred1.tolist()]\n",
    "    pred2_adj=[i if i>=0 else 0 for i in pred2.tolist()]\n",
    "    pred3_adj=[i if i>=0 else 0 for i in pred3.tolist()]\n",
    "    pred_avg=[]\n",
    "    for i in range(len(pred1_adj)):\n",
    "        pred_avg.append((pred1_adj[i]+pred2_adj[i]+pred3_adj[i])/3)\n",
    "    return pred_avg\n",
    "        "
   ]
  },
  {
   "cell_type": "code",
   "execution_count": 28,
   "metadata": {},
   "outputs": [
    {
     "data": {
      "image/png": "[encoded data removed]",
      "text/plain": [
       "<Figure size 432x288 with 1 Axes>"
      ]
     },
     "metadata": {},
     "output_type": "display_data"
    }
   ],
   "source": [
    "pred_avg=model_avg(rf_pred,gbdt_pred,xgb_pred)\n",
    "plt.plot([i for i in range(30)],pred_avg,color='blue')\n",
    "plt.plot([i for i in range(30)],valid_a1_y,color='red')\n",
    "plt.show()"
   ]
  },
  {
   "cell_type": "code",
   "execution_count": 29,
   "metadata": {},
   "outputs": [
    {
     "data": {
      "text/plain": [
       "0.17251863300121115"
      ]
     },
     "execution_count": 29,
     "metadata": {},
     "output_type": "execute_result"
    }
   ],
   "source": [
    "mape(prediction=pred_avg,target=valid_a1_y.tolist())"
   ]
  },
  {
   "cell_type": "code",
   "execution_count": 101,
   "metadata": {},
   "outputs": [],
   "source": [
    "#stacking of 3 models\n",
    "# from sklearn.ensemble import StackingRegressor\n",
    "# from sklearn import linear_model\n",
    "# final_estimator=linear_model.LinearRegression()"
   ]
  },
  {
   "cell_type": "code",
   "execution_count": 30,
   "metadata": {},
   "outputs": [],
   "source": [
    "# estimators=[('rf',rf),('gbdt',gbdt),('xgboost',xgb)]\n",
    "# stackreg=StackingRegressor(estimators=estimators,\n",
    "#                            cv=10,\n",
    "#                            final_estimator=final_estimator)\n",
    "# stackreg.fit(train_a1_x,train_a1_y)\n",
    "# stack_pred=stackreg.predict(valid_a1_x)"
   ]
  },
  {
   "cell_type": "code",
   "execution_count": 31,
   "metadata": {},
   "outputs": [],
   "source": [
    "# plt.plot([i for i in range(30)],stack_pred,color='blue')\n",
    "# plt.plot([i for i in range(30)],valid_a1_y,color='red')\n",
    "# plt.show()"
   ]
  },
  {
   "cell_type": "code",
   "execution_count": 32,
   "metadata": {},
   "outputs": [],
   "source": [
    "# mape(stack_pred.tolist(),valid_a1_y.tolist())"
   ]
  },
  {
   "cell_type": "markdown",
   "metadata": {},
   "source": [
    "# Task 1完整预测"
   ]
  },
  {
   "cell_type": "code",
   "execution_count": 675,
   "metadata": {},
   "outputs": [
    {
     "name": "stderr",
     "output_type": "stream",
     "text": [
      "\n",
      "\n",
      "\n",
      "  0%|          | 0/13 [00:00<?, ?it/s]\u001b[A\u001b[A\u001b[A\n",
      "\n",
      "\n",
      "  8%|▊         | 1/13 [01:35<19:06, 95.51s/it]\u001b[A\u001b[A\u001b[A\n",
      "\n",
      "\n",
      " 15%|█▌        | 2/13 [02:48<15:24, 84.07s/it]\u001b[A\u001b[A\u001b[A\n",
      "\n",
      "\n",
      " 23%|██▎       | 3/13 [04:11<13:57, 83.80s/it]\u001b[A\u001b[A\u001b[A\n",
      "\n",
      "\n",
      " 31%|███       | 4/13 [06:36<14:51, 99.05s/it]\u001b[A\u001b[A\u001b[A\n",
      "\n",
      "\n",
      " 38%|███▊      | 5/13 [07:51<12:34, 94.31s/it]\u001b[A\u001b[A\u001b[A\n",
      "\n",
      "\n",
      " 46%|████▌     | 6/13 [09:27<11:02, 94.67s/it]\u001b[A\u001b[A\u001b[A\n",
      "\n",
      "\n",
      " 54%|█████▍    | 7/13 [11:15<09:38, 96.50s/it]\u001b[A\u001b[A\u001b[A\n",
      "\n",
      "\n",
      " 62%|██████▏   | 8/13 [12:35<07:52, 94.41s/it]\u001b[A\u001b[A\u001b[A\n",
      "\n",
      "\n",
      " 69%|██████▉   | 9/13 [13:54<06:11, 92.76s/it]\u001b[A\u001b[A\u001b[A\n",
      "\n",
      "\n",
      " 77%|███████▋  | 10/13 [15:32<04:39, 93.28s/it]\u001b[A\u001b[A\u001b[A\n",
      "\n",
      "\n",
      " 85%|████████▍ | 11/13 [17:08<03:07, 93.51s/it]\u001b[A\u001b[A\u001b[A\n",
      "\n",
      "\n",
      " 92%|█████████▏| 12/13 [18:42<01:33, 93.56s/it]\u001b[A\u001b[A\u001b[A\n",
      "\n",
      "\n",
      "100%|██████████| 13/13 [20:16<00:00, 93.59s/it]\u001b[A\u001b[A\u001b[A\n",
      "\n",
      "\n",
      "\u001b[A\u001b[A\u001b[A"
     ]
    },
    {
     "name": "stdout",
     "output_type": "stream",
     "text": [
      "position A DONE!\n"
     ]
    }
   ],
   "source": [
    "#完整预测 a1,a2,a3....a13\n",
    "test_steps=pos_a_test.shape[0]\n",
    "pred_sum_a=array([0 for i in range(test_steps)],dtype=float)\n",
    "\n",
    "for i in tqdm(pos_as):\n",
    "    sub_pred=predict_a(i)\n",
    "    pred_sum_a+=sub_pred\n",
    "print('position A DONE!')"
   ]
  },
  {
   "cell_type": "code",
   "execution_count": 676,
   "metadata": {},
   "outputs": [
    {
     "name": "stdout",
     "output_type": "stream",
     "text": [
      "position B DONE!\n"
     ]
    }
   ],
   "source": [
    "#预测b1\n",
    "pred_b=predict_b()\n",
    "print('position B DONE!')"
   ]
  },
  {
   "cell_type": "code",
   "execution_count": 677,
   "metadata": {},
   "outputs": [],
   "source": [
    "#submit\n",
    "final_prediction=[]\n",
    "for i in range(test_steps):\n",
    "    final_prediction.append(pred_sum_a[i])\n",
    "    final_prediction.append(pred_b[i])\n",
    "\n",
    "test2['amount']=final_prediction\n",
    "test2.amount=test2.amount.apply(lambda x:round(x))"
   ]
  },
  {
   "cell_type": "code",
   "execution_count": 678,
   "metadata": {},
   "outputs": [],
   "source": [
    "test2.to_csv('task1_pred2_2.txt',index=False)"
   ]
  },
  {
   "cell_type": "markdown",
   "metadata": {},
   "source": [
    "# Task2"
   ]
  },
  {
   "cell_type": "code",
   "execution_count": 33,
   "metadata": {},
   "outputs": [],
   "source": [
    "#train a2\n",
    "pos_as=['A{}'.format(i) for i in range(1,14)]\n",
    "train_sub2={}\n",
    "for i in pos_as:\n",
    "    train_sub2[i]=pos_a[pos_a.biz_type==i][['date','periods','amount']]"
   ]
  },
  {
   "cell_type": "code",
   "execution_count": 34,
   "metadata": {},
   "outputs": [],
   "source": [
    "#train b2\n",
    "pos_b_hour=pos_b[['date','periods','amount']]"
   ]
  },
  {
   "cell_type": "code",
   "execution_count": 35,
   "metadata": {},
   "outputs": [],
   "source": [
    "#test2\n",
    "pos_a_test2=test2_periods[test2_periods['post_id']=='A'][['date','periods']]\n",
    "pos_a_test2['date']=pd.to_datetime(pos_a_test2['date'])\n",
    "\n",
    "pos_b_test2=test2_periods[test2_periods['post_id']=='B'][['date','periods']]\n",
    "pos_b_test2['date']=pd.to_datetime(pos_b_test2['date'])"
   ]
  },
  {
   "cell_type": "code",
   "execution_count": 272,
   "metadata": {},
   "outputs": [],
   "source": [
    "#对于periods做聚合来看一下构建其余特征的可能性\n",
    "# a1=train_sub2['A1']\n",
    "# a1.groupby('periods')[['amount']].sum()"
   ]
  },
  {
   "cell_type": "code",
   "execution_count": 36,
   "metadata": {},
   "outputs": [],
   "source": [
    "def feature_construct2(time_series,train=True): #time_series include the date(index) and amount\n",
    "    X=pd.DataFrame()\n",
    "    if train:\n",
    "        X['amount']=time_series.amount\n",
    "    X['date']=time_series.date\n",
    "    X['year']=time_series.date.apply(lambda x:x.year)\n",
    "    X['month']=time_series.date.apply(lambda x:x.month)\n",
    "    X['day']=time_series.date.apply(lambda x:x.day)\n",
    "    X['period']=time_series.periods\n",
    "    X['morning']=0\n",
    "    X['morning']=X['period'].apply(lambda x:x in [i for i in range(18,26)]).astype(int)\n",
    "    X['afternoon']=0\n",
    "    X['afternoon']=X['period'].apply(lambda x:x in [i for i in range(26,37)]).astype(int)\n",
    "\n",
    "    X=pd.merge(X,wkd,on='date',how='left')\n",
    "    \n",
    "    for i in ['WN','SN','NH','SS','WS']:\n",
    "        X[i]=X['WKD_TYP_CD'].apply(lambda x:x==i).astype(int)\n",
    "    \n",
    "    if train:\n",
    "        X=X.iloc[48*14:,:].reset_index(drop=True)\n",
    "    \n",
    "    #新冠肺炎\n",
    "    X['xg']=0\n",
    "    for i in range(X.shape[0]):\n",
    "        if X.year[i]==2020 and X.month[i] in (1,2,3):\n",
    "                X['xg'][i]=1\n",
    "    if train:\n",
    "        output=X[['amount','year','month','day','period','morning','afternoon','WN','SN','NH','SS','WS',\\\n",
    "                  'new1',\n",
    "                  'afterhod',\n",
    "                  'afterwkdch',\n",
    "                  'afterhodch',\n",
    "                  'hodratio7',\n",
    "                  'hodratio14',\n",
    "                  'wkdchratio7',\n",
    "                  'wkdchratio14',\n",
    "                  'hodchratio7',\n",
    "                  'hodchratio14',\n",
    "                  'xg']]\n",
    "        for i in ('year','month','day','period'):\n",
    "            normalization(output,i)\n",
    "    else:\n",
    "        output=X[['year','month','day','period','morning','afternoon','WN','SN','NH','SS','WS',\n",
    "                  'new1',\n",
    "                  'afterhod',\n",
    "                  'afterwkdch',\n",
    "                  'afterhodch',\n",
    "                  'hodratio7',\n",
    "                  'hodratio14',\n",
    "                  'wkdchratio7',\n",
    "                  'wkdchratio14',\n",
    "                  'hodchratio7',\n",
    "                  'hodchratio14',\n",
    "                  'xg']] #test\n",
    "        output['year']=output['year'].apply(lambda x:(x-2018)/(2020-2018))\n",
    "        output['month']=output['month'].apply(lambda x:(x-1)/(12-1))\n",
    "        output['day']=output['day'].apply(lambda x:(x-1)/(31-1))\n",
    "        output['period']=output['period'].apply(lambda x:(x-1)/(48-1))\n",
    "    \n",
    "    return output "
   ]
  },
  {
   "cell_type": "code",
   "execution_count": 37,
   "metadata": {},
   "outputs": [],
   "source": [
    "#take a1 as example\n",
    "a1_2=train_sub2['A1']\n",
    "a1_featured2=feature_construct2(a1_2)\n",
    "train_a1_featured2,valid_a1_featured2=a1_featured2[:-30*48],a1_featured2[-30*48:]"
   ]
  },
  {
   "cell_type": "code",
   "execution_count": 38,
   "metadata": {},
   "outputs": [],
   "source": [
    "train_a1_x2,valid_a1_x2=train_a1_featured2.iloc[:,1:],valid_a1_featured2.iloc[:,1:]\n",
    "train_a1_y2,valid_a1_y2=train_a1_featured2.iloc[:,0],valid_a1_featured2.iloc[:,0]"
   ]
  },
  {
   "cell_type": "code",
   "execution_count": 45,
   "metadata": {},
   "outputs": [],
   "source": [
    "import time"
   ]
  },
  {
   "cell_type": "code",
   "execution_count": 48,
   "metadata": {},
   "outputs": [
    {
     "name": "stdout",
     "output_type": "stream",
     "text": [
      "training use 1182.4787480831146 seconds\n"
     ]
    }
   ],
   "source": [
    "rf2=RandomForestRegressor(n_estimators=100,\n",
    "                         criterion='mae',\n",
    "                         max_depth=5,\n",
    "                         min_samples_split=30,\n",
    "                         min_samples_leaf=5,\n",
    "                        max_features='sqrt')\n",
    "start=time.time()\n",
    "rf2.fit(train_a1_x2,train_a1_y2)\n",
    "print(f'training use {time.time()-start} seconds')\n",
    "rf_pred=rf2.predict(valid_a1_x2)"
   ]
  },
  {
   "cell_type": "code",
   "execution_count": 49,
   "metadata": {},
   "outputs": [
    {
     "data": {
      "image/png": "[encoded data removed]",
      "text/plain": [
       "<Figure size 432x288 with 1 Axes>"
      ]
     },
     "metadata": {},
     "output_type": "display_data"
    }
   ],
   "source": [
    "plt.plot([i for i in range(30*48)],rf_pred,color='blue')\n",
    "plt.plot([i for i in range(30*48)],valid_a1_y2,color='red')\n",
    "plt.show()"
   ]
  },
  {
   "cell_type": "code",
   "execution_count": 51,
   "metadata": {},
   "outputs": [
    {
     "data": {
      "text/plain": [
       "0.1966457900816051"
      ]
     },
     "execution_count": 51,
     "metadata": {},
     "output_type": "execute_result"
    }
   ],
   "source": [
    "mape(prediction=rf_pred.tolist(),target=valid_a1_y2.tolist())"
   ]
  },
  {
   "cell_type": "code",
   "execution_count": 52,
   "metadata": {},
   "outputs": [],
   "source": [
    "model1=XGBRegressor(learning_rate=0.1,\n",
    "                n_estimators=300,\n",
    "                 objective='reg:squarederror')\n",
    "model1.fit(train_a1_x2,train_a1_y2)\n",
    "pred_xgb_a1=model1.predict(valid_a1_x2)\n",
    "pred_xgb_a1_adj=[i if i>=0 else 0 for i in pred_xgb_a1.tolist()]"
   ]
  },
  {
   "cell_type": "code",
   "execution_count": 53,
   "metadata": {},
   "outputs": [
    {
     "data": {
      "image/png": "[encoded data removed]",
      "text/plain": [
       "<Figure size 432x288 with 1 Axes>"
      ]
     },
     "metadata": {},
     "output_type": "display_data"
    }
   ],
   "source": [
    "plt.plot([i for i in range(30*48)],pred_xgb_a1_adj,color='blue')\n",
    "plt.plot([i for i in range(30*48)],valid_a1_y2,color='red')\n",
    "plt.show()"
   ]
  },
  {
   "cell_type": "code",
   "execution_count": 54,
   "metadata": {},
   "outputs": [
    {
     "data": {
      "text/plain": [
       "0.23385117194584407"
      ]
     },
     "execution_count": 54,
     "metadata": {},
     "output_type": "execute_result"
    }
   ],
   "source": [
    "mape(prediction=pred_xgb_a1_adj,target=valid_a1_y2.tolist())"
   ]
  },
  {
   "cell_type": "markdown",
   "metadata": {},
   "source": [
    "# Task 2完整预测"
   ]
  },
  {
   "cell_type": "code",
   "execution_count": 671,
   "metadata": {},
   "outputs": [
    {
     "name": "stderr",
     "output_type": "stream",
     "text": [
      "\n",
      "\n",
      "\n",
      "  0%|          | 0/13 [00:00<?, ?it/s]\u001b[A\u001b[A\u001b[A\n",
      "\n",
      "\n",
      "  8%|▊         | 1/13 [00:08<01:38,  8.19s/it]\u001b[A\u001b[A\u001b[A\n",
      "\n",
      "\n",
      " 15%|█▌        | 2/13 [00:17<01:34,  8.59s/it]\u001b[A\u001b[A\u001b[A\n",
      "\n",
      "\n",
      " 23%|██▎       | 3/13 [00:26<01:27,  8.77s/it]\u001b[A\u001b[A\u001b[A\n",
      "\n",
      "\n",
      " 31%|███       | 4/13 [00:34<01:18,  8.67s/it]\u001b[A\u001b[A\u001b[A\n",
      "\n",
      "\n",
      " 38%|███▊      | 5/13 [00:43<01:09,  8.73s/it]\u001b[A\u001b[A\u001b[A\n",
      "\n",
      "\n",
      " 46%|████▌     | 6/13 [00:52<01:01,  8.72s/it]\u001b[A\u001b[A\u001b[A\n",
      "\n",
      "\n",
      " 54%|█████▍    | 7/13 [01:00<00:51,  8.63s/it]\u001b[A\u001b[A\u001b[A\n",
      "\n",
      "\n",
      " 62%|██████▏   | 8/13 [01:08<00:42,  8.56s/it]\u001b[A\u001b[A\u001b[A\n",
      "\n",
      "\n",
      " 69%|██████▉   | 9/13 [01:16<00:33,  8.49s/it]\u001b[A\u001b[A\u001b[A\n",
      "\n",
      "\n",
      " 77%|███████▋  | 10/13 [01:24<00:25,  8.43s/it]\u001b[A\u001b[A\u001b[A\n",
      "\n",
      "\n",
      " 85%|████████▍ | 11/13 [01:32<00:16,  8.40s/it]\u001b[A\u001b[A\u001b[A\n",
      "\n",
      "\n",
      " 92%|█████████▏| 12/13 [01:40<00:08,  8.41s/it]\u001b[A\u001b[A\u001b[A\n",
      "\n",
      "\n",
      "100%|██████████| 13/13 [01:52<00:00,  8.62s/it]\u001b[A\u001b[A\u001b[A\n",
      "\n",
      "\n",
      "\u001b[A\u001b[A\u001b[A"
     ]
    },
    {
     "name": "stdout",
     "output_type": "stream",
     "text": [
      "Done\n"
     ]
    }
   ],
   "source": [
    "#predict for a1,a2...a13\n",
    "test_steps2=pos_a_test2.shape[0]\n",
    "pred_a_sum2=array([0 for i in range(test_steps2)],dtype=float)\n",
    "\n",
    "for i in tqdm(pos_as):\n",
    "    sub_a2=train_sub2[i]\n",
    "    sub_a2_train=feature_construct2(sub_a2)\n",
    "    a2_test=feature_construct2(pos_a_test2,train=False)\n",
    "    \n",
    "    sub_a2_train_x,sub_a2_train_y=sub_a2_train.iloc[:,1:],sub_a2_train.iloc[:,0]\n",
    "    model=XGBRegressor(learning_rate=0.1,\n",
    "                n_estimators=200,\n",
    "                 objective='reg:squarederror')\n",
    "    model.fit(sub_a2_train_x,sub_a2_train_y)\n",
    "    pred=model.predict(a2_test)\n",
    "    pred_adj=[i if i>=0 else 0 for i in pred.tolist()]\n",
    "    pred_adj=array(pred_adj)\n",
    "    pred_a_sum2+=pred_adj\n",
    "print('Done')  "
   ]
  },
  {
   "cell_type": "code",
   "execution_count": 672,
   "metadata": {},
   "outputs": [],
   "source": [
    "#predict for b\n",
    "train_b2=feature_construct2(pos_b_hour)\n",
    "test_b2=feature_construct2(pos_b_test2,train=False)\n",
    "train_b2_y,train_b2_x=train_b2.iloc[:,0],train_b2.iloc[:,1:]\n",
    "\n",
    "model2=XGBRegressor(learning_rate=0.1,\n",
    "                  n_estimators=200,\n",
    "                  objective='reg:squarederror')\n",
    "    \n",
    "model2.fit(train_b2_x,train_b2_y)\n",
    "pred_b2=model2.predict(test_b2)\n",
    "pred_b2_adj=[i if i>=0 else 0 for i in pred_b2.tolist()]"
   ]
  },
  {
   "cell_type": "code",
   "execution_count": 673,
   "metadata": {},
   "outputs": [],
   "source": [
    "#submit\n",
    "final_prediction2=[]\n",
    "pred_a2=pred_a_sum2.tolist()\n",
    "pred_b2=pred_b2_adj\n",
    "#dec has 31 days\n",
    "for i in range(31):\n",
    "    final_prediction2+=pred_a2[i*48:(i+1)*48]\n",
    "    final_prediction2+=pred_b2[i*48:(i+1)*48]\n",
    "\n",
    "test2_periods['amount']=final_prediction2\n",
    "test2_periods.amount=test2_periods.amount.apply(lambda x:round(x))\n",
    "\n",
    "test2_periods.to_csv('task2_pred2.txt',index=False)"
   ]
  },
  {
   "cell_type": "code",
   "execution_count": null,
   "metadata": {},
   "outputs": [],
   "source": []
  }
 ],
 "metadata": {
  "kernelspec": {
   "display_name": "Python 3",
   "language": "python",
   "name": "python3"
  },
  "language_info": {
   "codemirror_mode": {
    "name": "ipython",
    "version": 3
   },
   "file_extension": ".py",
   "mimetype": "text/x-python",
   "name": "python",
   "nbconvert_exporter": "python",
   "pygments_lexer": "ipython3",
   "version": "3.6.8"
  }
 },
 "nbformat": 4,
 "nbformat_minor": 2
}
